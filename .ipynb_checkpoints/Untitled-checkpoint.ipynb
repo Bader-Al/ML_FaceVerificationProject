{
 "cells": [
  {
   "cell_type": "code",
   "execution_count": 2,
   "metadata": {},
   "outputs": [],
   "source": [
    "import os\n",
    "from deepface import DeepFace\n",
    "import pandas as pd\n",
    "from pandas import plotting\n",
    "from pathlib import Path\n",
    "import re\n",
    "from re import match\n",
    "import numpy as np\n",
    "import tensorflow as tf\n",
    "\n",
    "\n",
    "import enum\n",
    "\n",
    "class FVM(enum.Enum): # short for FaceVerificationModel\n",
    "    vgg = \"VGG-Face\",\n",
    "    facenet = \"Facenet\",\n",
    "    facenet512 = \"Facenet512\",\n",
    "    openface = \"OpenFace\", \n",
    "    \n",
    "class GBU(enum.Enum):\n",
    "    good = \"Good\",\n",
    "    bad = \"Bad\",\n",
    "    ugly = \"Ugly\",\n",
    "    "
   ]
  },
  {
   "cell_type": "code",
   "execution_count": 3,
   "metadata": {},
   "outputs": [],
   "source": [
    "folder_path = \"./GBU-Dataset\"\n",
    "dataset = os.listdir(folder_path)\n",
    "\n",
    "query_path_suffix = \"_Query_Normailized_128x128_gbuReduced/\"\n",
    "target_path_suffix = \"_Target_Normailized_128x128_gbuReduced/\"\n"
   ]
  },
  {
   "cell_type": "code",
   "execution_count": 4,
   "metadata": {},
   "outputs": [],
   "source": [
    "def get_paths( gbu_type:GBU ):\n",
    "    gbu = str(gbu_type.value[0]) # bcz enum values are returned as tuples\n",
    "    query_path = folder_path +\"/\" + gbu + query_path_suffix\n",
    "    target_path = folder_path +\"/\"+ gbu + target_path_suffix\n",
    "    return query_path, target_path"
   ]
  },
  {
   "cell_type": "code",
   "execution_count": 5,
   "metadata": {},
   "outputs": [],
   "source": [
    "def get_sorted_images_from_path( path:str):\n",
    "    try: return sorted(os.listdir(path))\n",
    "    except: raise Exception(\"Path invalid!\")"
   ]
  },
  {
   "cell_type": "code",
   "execution_count": 7,
   "metadata": {},
   "outputs": [
    {
     "name": "stdout",
     "output_type": "stream",
     "text": [
      "\n"
     ]
    }
   ],
   "source": [
    "def verify_faces( model_type:FVM = FVM.vgg , gbu_type:GBU = GBU.good ):\n",
    "    print(f\"Verifying faces with {model_type.value[0]} and {gbu_type.value[0]}...\")\n",
    "    model = model_type.value[0] #cz they're returned as tuples\n",
    "    genuine = []\n",
    "    imposter = []\n",
    "    \n",
    "    query_path, target_path = get_paths(gbu_type)\n",
    "    query_images = get_sorted_images_from_path(query_path)\n",
    "    target_images = get_sorted_images_from_path(target_path)\n",
    "    \n",
    "    for query_img in query_images:\n",
    "        query_person_id = int(query_img[:5])\n",
    "        for target_img in target_images:\n",
    "            target_person_id = int(target_img[:5])\n",
    "            if target_person_id == query_person_id:\n",
    "                result = DeepFace.verify (img1_path = query_path + query_img, img2_path = target_path + target_img, model_name = model, detector_backend = 'mtcnn', enforce_detection=False) \n",
    "                genuine.append(result)\n",
    "            else: \n",
    "                result = DeepFace.verify (img1_path = query_path + query_img, img2_path = target_path + target_img, model_name = model, detector_backend = 'mtcnn', enforce_detection=False) \n",
    "                imposter.append(result)\n",
    "    return genuine, imposter"
   ]
  },
  {
   "cell_type": "code",
   "execution_count": null,
   "metadata": {},
   "outputs": [],
   "source": [
    "for face_veri_model in FVM :\n",
    "    for gbu in GBU :\n",
    "        genuine, imposter = verify_faces(face_veri_model, gbu)"
   ]
  }
 ],
 "metadata": {
  "kernelspec": {
   "display_name": "Python 3 (ipykernel)",
   "language": "python",
   "name": "python3"
  },
  "language_info": {
   "codemirror_mode": {
    "name": "ipython",
    "version": 3
   },
   "file_extension": ".py",
   "mimetype": "text/x-python",
   "name": "python",
   "nbconvert_exporter": "python",
   "pygments_lexer": "ipython3",
   "version": "3.7.4"
  }
 },
 "nbformat": 4,
 "nbformat_minor": 2
}
