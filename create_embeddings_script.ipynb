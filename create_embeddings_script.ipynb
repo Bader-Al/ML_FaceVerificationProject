{
 "cells": [
  {
   "cell_type": "code",
   "execution_count": 19,
   "id": "c232875f",
   "metadata": {},
   "outputs": [],
   "source": [
    "from core import *\n",
    "from deepface import DeepFace\n",
    "from retinaface import RetinaFace \n",
    "import json"
   ]
  },
  {
   "cell_type": "code",
   "execution_count": 22,
   "id": "c452a0e9",
   "metadata": {},
   "outputs": [],
   "source": [
    "def save_path_embeddings(path:str, embeddings:dict):\n",
    "    with open(f'path_embeddings/{path}', 'w') as file:\n",
    "        json.dump(embeddings, file)"
   ]
  },
  {
   "cell_type": "code",
   "execution_count": 24,
   "id": "02b77a75",
   "metadata": {
    "scrolled": true
   },
   "outputs": [],
   "source": [
    "def get_embeddings(path:str, model_type:FVM = FVM.vgg ):\n",
    "    model = model_type.value\n",
    "    res = DeepFace.represent(img_path=path,model_name = model_type.value, detector_backend=\"mtcnn\", enforce_detection=False )\n",
    "    return res"
   ]
  },
  {
   "cell_type": "code",
   "execution_count": 25,
   "id": "c196c3a1",
   "metadata": {},
   "outputs": [],
   "source": [
    "from tqdm.auto import tqdm # for progress bar"
   ]
  },
  {
   "cell_type": "code",
   "execution_count": 27,
   "id": "dd1f7199",
   "metadata": {
    "scrolled": true
   },
   "outputs": [
    {
     "name": "stdout",
     "output_type": "stream",
     "text": [
      "checking exists: ./path_embeddings/Bad_Query_Normailized_128x128_gbuReduced : False\n",
      "gathering embeddings for path: ./GBU-Dataset/Bad_Query_Normailized_128x128_gbuReduced with model: VGG-Face\n"
     ]
    },
    {
     "data": {
      "application/vnd.jupyter.widget-view+json": {
       "model_id": "4457d20d79e14463925c3f24269eb2aa",
       "version_major": 2,
       "version_minor": 0
      },
      "text/plain": [
       "  0%|          | 0/1085 [00:00<?, ?it/s]"
      ]
     },
     "metadata": {},
     "output_type": "display_data"
    },
    {
     "name": "stdout",
     "output_type": "stream",
     "text": [
      "gathering embeddings for path: ./GBU-Dataset/Bad_Query_Normailized_128x128_gbuReduced with model: Facenet\n"
     ]
    },
    {
     "data": {
      "application/vnd.jupyter.widget-view+json": {
       "model_id": "f70f5589ace742128b72845a56993306",
       "version_major": 2,
       "version_minor": 0
      },
      "text/plain": [
       "  0%|          | 0/1085 [00:00<?, ?it/s]"
      ]
     },
     "metadata": {},
     "output_type": "display_data"
    },
    {
     "name": "stdout",
     "output_type": "stream",
     "text": [
      "gathering embeddings for path: ./GBU-Dataset/Bad_Query_Normailized_128x128_gbuReduced with model: Facenet512\n"
     ]
    },
    {
     "data": {
      "application/vnd.jupyter.widget-view+json": {
       "model_id": "174fe569878a42bb90fffbac80589754",
       "version_major": 2,
       "version_minor": 0
      },
      "text/plain": [
       "  0%|          | 0/1085 [00:00<?, ?it/s]"
      ]
     },
     "metadata": {},
     "output_type": "display_data"
    },
    {
     "name": "stdout",
     "output_type": "stream",
     "text": [
      "gathering embeddings for path: ./GBU-Dataset/Bad_Query_Normailized_128x128_gbuReduced with model: OpenFace\n"
     ]
    },
    {
     "data": {
      "application/vnd.jupyter.widget-view+json": {
       "model_id": "95d95fef028b4a6ea9b0934228f15d73",
       "version_major": 2,
       "version_minor": 0
      },
      "text/plain": [
       "  0%|          | 0/1085 [00:00<?, ?it/s]"
      ]
     },
     "metadata": {},
     "output_type": "display_data"
    },
    {
     "name": "stdout",
     "output_type": "stream",
     "text": [
      "gathering embeddings for path: ./GBU-Dataset/Bad_Query_Normailized_128x128_gbuReduced with model: DeepFace\n"
     ]
    },
    {
     "data": {
      "application/vnd.jupyter.widget-view+json": {
       "model_id": "2a55abeb9ffb499a813c66b90eced5ab",
       "version_major": 2,
       "version_minor": 0
      },
      "text/plain": [
       "  0%|          | 0/1085 [00:00<?, ?it/s]"
      ]
     },
     "metadata": {},
     "output_type": "display_data"
    },
    {
     "name": "stdout",
     "output_type": "stream",
     "text": [
      "gathering embeddings for path: ./GBU-Dataset/Bad_Query_Normailized_128x128_gbuReduced with model: DeepID\n"
     ]
    },
    {
     "data": {
      "application/vnd.jupyter.widget-view+json": {
       "model_id": "1093c869132447c4a875988b3e2ac12a",
       "version_major": 2,
       "version_minor": 0
      },
      "text/plain": [
       "  0%|          | 0/1085 [00:00<?, ?it/s]"
      ]
     },
     "metadata": {},
     "output_type": "display_data"
    },
    {
     "name": "stdout",
     "output_type": "stream",
     "text": [
      "checking exists: ./path_embeddings/Bad_Target_Normailized_128x128_gbuReduced : False\n",
      "gathering embeddings for path: ./GBU-Dataset/Bad_Target_Normailized_128x128_gbuReduced with model: VGG-Face\n"
     ]
    },
    {
     "data": {
      "application/vnd.jupyter.widget-view+json": {
       "model_id": "425c5016848f445d9f04bd3ba6fec939",
       "version_major": 2,
       "version_minor": 0
      },
      "text/plain": [
       "  0%|          | 0/1085 [00:00<?, ?it/s]"
      ]
     },
     "metadata": {},
     "output_type": "display_data"
    },
    {
     "name": "stdout",
     "output_type": "stream",
     "text": [
      "gathering embeddings for path: ./GBU-Dataset/Bad_Target_Normailized_128x128_gbuReduced with model: Facenet\n"
     ]
    },
    {
     "data": {
      "application/vnd.jupyter.widget-view+json": {
       "model_id": "dc2b0227edf34c728741eac4a2b21bc4",
       "version_major": 2,
       "version_minor": 0
      },
      "text/plain": [
       "  0%|          | 0/1085 [00:00<?, ?it/s]"
      ]
     },
     "metadata": {},
     "output_type": "display_data"
    },
    {
     "name": "stdout",
     "output_type": "stream",
     "text": [
      "gathering embeddings for path: ./GBU-Dataset/Bad_Target_Normailized_128x128_gbuReduced with model: Facenet512\n"
     ]
    },
    {
     "data": {
      "application/vnd.jupyter.widget-view+json": {
       "model_id": "c932cb06aedf48fcbbc6b4f2a7274c86",
       "version_major": 2,
       "version_minor": 0
      },
      "text/plain": [
       "  0%|          | 0/1085 [00:00<?, ?it/s]"
      ]
     },
     "metadata": {},
     "output_type": "display_data"
    },
    {
     "name": "stdout",
     "output_type": "stream",
     "text": [
      "gathering embeddings for path: ./GBU-Dataset/Bad_Target_Normailized_128x128_gbuReduced with model: OpenFace\n"
     ]
    },
    {
     "data": {
      "application/vnd.jupyter.widget-view+json": {
       "model_id": "ae953b82fb594842b68fdbefe09cb7c9",
       "version_major": 2,
       "version_minor": 0
      },
      "text/plain": [
       "  0%|          | 0/1085 [00:00<?, ?it/s]"
      ]
     },
     "metadata": {},
     "output_type": "display_data"
    },
    {
     "name": "stdout",
     "output_type": "stream",
     "text": [
      "gathering embeddings for path: ./GBU-Dataset/Bad_Target_Normailized_128x128_gbuReduced with model: DeepFace\n"
     ]
    },
    {
     "data": {
      "application/vnd.jupyter.widget-view+json": {
       "model_id": "5234ef5753c344b582c343c0671386cc",
       "version_major": 2,
       "version_minor": 0
      },
      "text/plain": [
       "  0%|          | 0/1085 [00:00<?, ?it/s]"
      ]
     },
     "metadata": {},
     "output_type": "display_data"
    },
    {
     "name": "stdout",
     "output_type": "stream",
     "text": [
      "gathering embeddings for path: ./GBU-Dataset/Bad_Target_Normailized_128x128_gbuReduced with model: DeepID\n"
     ]
    },
    {
     "data": {
      "application/vnd.jupyter.widget-view+json": {
       "model_id": "b4399efca1794e4e82676918ba939d9e",
       "version_major": 2,
       "version_minor": 0
      },
      "text/plain": [
       "  0%|          | 0/1085 [00:00<?, ?it/s]"
      ]
     },
     "metadata": {},
     "output_type": "display_data"
    },
    {
     "name": "stdout",
     "output_type": "stream",
     "text": [
      "checking exists: ./path_embeddings/Good_Query_Normailized_128x128_gbuReduced : False\n",
      "gathering embeddings for path: ./GBU-Dataset/Good_Query_Normailized_128x128_gbuReduced with model: VGG-Face\n"
     ]
    },
    {
     "data": {
      "application/vnd.jupyter.widget-view+json": {
       "model_id": "b51d1ff1b02f436b85e4dff8dbce0909",
       "version_major": 2,
       "version_minor": 0
      },
      "text/plain": [
       "  0%|          | 0/1085 [00:00<?, ?it/s]"
      ]
     },
     "metadata": {},
     "output_type": "display_data"
    },
    {
     "name": "stdout",
     "output_type": "stream",
     "text": [
      "gathering embeddings for path: ./GBU-Dataset/Good_Query_Normailized_128x128_gbuReduced with model: Facenet\n"
     ]
    },
    {
     "data": {
      "application/vnd.jupyter.widget-view+json": {
       "model_id": "b5e2d02f96b94eee9bc6816374f05db2",
       "version_major": 2,
       "version_minor": 0
      },
      "text/plain": [
       "  0%|          | 0/1085 [00:00<?, ?it/s]"
      ]
     },
     "metadata": {},
     "output_type": "display_data"
    },
    {
     "name": "stdout",
     "output_type": "stream",
     "text": [
      "gathering embeddings for path: ./GBU-Dataset/Good_Query_Normailized_128x128_gbuReduced with model: Facenet512\n"
     ]
    },
    {
     "data": {
      "application/vnd.jupyter.widget-view+json": {
       "model_id": "77f291da2b9340789e7cb5cb31f83ccc",
       "version_major": 2,
       "version_minor": 0
      },
      "text/plain": [
       "  0%|          | 0/1085 [00:00<?, ?it/s]"
      ]
     },
     "metadata": {},
     "output_type": "display_data"
    },
    {
     "name": "stdout",
     "output_type": "stream",
     "text": [
      "gathering embeddings for path: ./GBU-Dataset/Good_Query_Normailized_128x128_gbuReduced with model: OpenFace\n"
     ]
    },
    {
     "data": {
      "application/vnd.jupyter.widget-view+json": {
       "model_id": "d5288ccd6034425daee2cd6a1ed89e5e",
       "version_major": 2,
       "version_minor": 0
      },
      "text/plain": [
       "  0%|          | 0/1085 [00:00<?, ?it/s]"
      ]
     },
     "metadata": {},
     "output_type": "display_data"
    },
    {
     "name": "stdout",
     "output_type": "stream",
     "text": [
      "gathering embeddings for path: ./GBU-Dataset/Good_Query_Normailized_128x128_gbuReduced with model: DeepFace\n"
     ]
    },
    {
     "data": {
      "application/vnd.jupyter.widget-view+json": {
       "model_id": "89078be4a3394f639a45a0244dc21af4",
       "version_major": 2,
       "version_minor": 0
      },
      "text/plain": [
       "  0%|          | 0/1085 [00:00<?, ?it/s]"
      ]
     },
     "metadata": {},
     "output_type": "display_data"
    },
    {
     "name": "stdout",
     "output_type": "stream",
     "text": [
      "gathering embeddings for path: ./GBU-Dataset/Good_Query_Normailized_128x128_gbuReduced with model: DeepID\n"
     ]
    },
    {
     "data": {
      "application/vnd.jupyter.widget-view+json": {
       "model_id": "260aa81c4a1a45468ff2cb16c81d8701",
       "version_major": 2,
       "version_minor": 0
      },
      "text/plain": [
       "  0%|          | 0/1085 [00:00<?, ?it/s]"
      ]
     },
     "metadata": {},
     "output_type": "display_data"
    },
    {
     "name": "stdout",
     "output_type": "stream",
     "text": [
      "checking exists: ./path_embeddings/Good_Target_Normailized_128x128_gbuReduced : False\n",
      "gathering embeddings for path: ./GBU-Dataset/Good_Target_Normailized_128x128_gbuReduced with model: VGG-Face\n"
     ]
    },
    {
     "data": {
      "application/vnd.jupyter.widget-view+json": {
       "model_id": "18910b50761542e38e84deb654e92c38",
       "version_major": 2,
       "version_minor": 0
      },
      "text/plain": [
       "  0%|          | 0/1085 [00:00<?, ?it/s]"
      ]
     },
     "metadata": {},
     "output_type": "display_data"
    },
    {
     "name": "stdout",
     "output_type": "stream",
     "text": [
      "gathering embeddings for path: ./GBU-Dataset/Good_Target_Normailized_128x128_gbuReduced with model: Facenet\n"
     ]
    },
    {
     "data": {
      "application/vnd.jupyter.widget-view+json": {
       "model_id": "2e3cb66b598c4700a95c9c480aa899d4",
       "version_major": 2,
       "version_minor": 0
      },
      "text/plain": [
       "  0%|          | 0/1085 [00:00<?, ?it/s]"
      ]
     },
     "metadata": {},
     "output_type": "display_data"
    },
    {
     "name": "stdout",
     "output_type": "stream",
     "text": [
      "gathering embeddings for path: ./GBU-Dataset/Good_Target_Normailized_128x128_gbuReduced with model: Facenet512\n"
     ]
    },
    {
     "data": {
      "application/vnd.jupyter.widget-view+json": {
       "model_id": "a914c3f1f8da41f59e9ad16dbf98651a",
       "version_major": 2,
       "version_minor": 0
      },
      "text/plain": [
       "  0%|          | 0/1085 [00:00<?, ?it/s]"
      ]
     },
     "metadata": {},
     "output_type": "display_data"
    },
    {
     "name": "stdout",
     "output_type": "stream",
     "text": [
      "gathering embeddings for path: ./GBU-Dataset/Good_Target_Normailized_128x128_gbuReduced with model: OpenFace\n"
     ]
    },
    {
     "data": {
      "application/vnd.jupyter.widget-view+json": {
       "model_id": "9ff5f153f3884ceea6759c28fa3fdef9",
       "version_major": 2,
       "version_minor": 0
      },
      "text/plain": [
       "  0%|          | 0/1085 [00:00<?, ?it/s]"
      ]
     },
     "metadata": {},
     "output_type": "display_data"
    },
    {
     "name": "stdout",
     "output_type": "stream",
     "text": [
      "gathering embeddings for path: ./GBU-Dataset/Good_Target_Normailized_128x128_gbuReduced with model: DeepFace\n"
     ]
    },
    {
     "data": {
      "application/vnd.jupyter.widget-view+json": {
       "model_id": "3b4402d21fd142fdb705f8c94e7a3f13",
       "version_major": 2,
       "version_minor": 0
      },
      "text/plain": [
       "  0%|          | 0/1085 [00:00<?, ?it/s]"
      ]
     },
     "metadata": {},
     "output_type": "display_data"
    },
    {
     "name": "stdout",
     "output_type": "stream",
     "text": [
      "gathering embeddings for path: ./GBU-Dataset/Good_Target_Normailized_128x128_gbuReduced with model: DeepID\n"
     ]
    },
    {
     "data": {
      "application/vnd.jupyter.widget-view+json": {
       "model_id": "19f8916d69e342ada713ad18fd1c4455",
       "version_major": 2,
       "version_minor": 0
      },
      "text/plain": [
       "  0%|          | 0/1085 [00:00<?, ?it/s]"
      ]
     },
     "metadata": {},
     "output_type": "display_data"
    },
    {
     "name": "stdout",
     "output_type": "stream",
     "text": [
      "checking exists: ./path_embeddings/Ugly_Query_Normailized_128x128_gbuReduced : False\n",
      "gathering embeddings for path: ./GBU-Dataset/Ugly_Query_Normailized_128x128_gbuReduced with model: VGG-Face\n"
     ]
    },
    {
     "data": {
      "application/vnd.jupyter.widget-view+json": {
       "model_id": "d7a2391c82764bc7bc40094052d83f22",
       "version_major": 2,
       "version_minor": 0
      },
      "text/plain": [
       "  0%|          | 0/1085 [00:00<?, ?it/s]"
      ]
     },
     "metadata": {},
     "output_type": "display_data"
    },
    {
     "name": "stdout",
     "output_type": "stream",
     "text": [
      "gathering embeddings for path: ./GBU-Dataset/Ugly_Query_Normailized_128x128_gbuReduced with model: Facenet\n"
     ]
    },
    {
     "data": {
      "application/vnd.jupyter.widget-view+json": {
       "model_id": "b92c36b026264ce6928d426c10f43438",
       "version_major": 2,
       "version_minor": 0
      },
      "text/plain": [
       "  0%|          | 0/1085 [00:00<?, ?it/s]"
      ]
     },
     "metadata": {},
     "output_type": "display_data"
    },
    {
     "name": "stdout",
     "output_type": "stream",
     "text": [
      "gathering embeddings for path: ./GBU-Dataset/Ugly_Query_Normailized_128x128_gbuReduced with model: Facenet512\n"
     ]
    },
    {
     "data": {
      "application/vnd.jupyter.widget-view+json": {
       "model_id": "4c9c29c1300542129b55bdf5020ca4a5",
       "version_major": 2,
       "version_minor": 0
      },
      "text/plain": [
       "  0%|          | 0/1085 [00:00<?, ?it/s]"
      ]
     },
     "metadata": {},
     "output_type": "display_data"
    },
    {
     "name": "stdout",
     "output_type": "stream",
     "text": [
      "gathering embeddings for path: ./GBU-Dataset/Ugly_Query_Normailized_128x128_gbuReduced with model: OpenFace\n"
     ]
    },
    {
     "data": {
      "application/vnd.jupyter.widget-view+json": {
       "model_id": "acf7e840bb304f27a7b4e22910db156d",
       "version_major": 2,
       "version_minor": 0
      },
      "text/plain": [
       "  0%|          | 0/1085 [00:00<?, ?it/s]"
      ]
     },
     "metadata": {},
     "output_type": "display_data"
    },
    {
     "name": "stdout",
     "output_type": "stream",
     "text": [
      "gathering embeddings for path: ./GBU-Dataset/Ugly_Query_Normailized_128x128_gbuReduced with model: DeepFace\n"
     ]
    },
    {
     "data": {
      "application/vnd.jupyter.widget-view+json": {
       "model_id": "44c9dcc47c954fad98fc91f1f080392e",
       "version_major": 2,
       "version_minor": 0
      },
      "text/plain": [
       "  0%|          | 0/1085 [00:00<?, ?it/s]"
      ]
     },
     "metadata": {},
     "output_type": "display_data"
    },
    {
     "name": "stdout",
     "output_type": "stream",
     "text": [
      "gathering embeddings for path: ./GBU-Dataset/Ugly_Query_Normailized_128x128_gbuReduced with model: DeepID\n"
     ]
    },
    {
     "data": {
      "application/vnd.jupyter.widget-view+json": {
       "model_id": "cfb6db0b2fcb4a198edcce8ff3efa26e",
       "version_major": 2,
       "version_minor": 0
      },
      "text/plain": [
       "  0%|          | 0/1085 [00:00<?, ?it/s]"
      ]
     },
     "metadata": {},
     "output_type": "display_data"
    },
    {
     "name": "stdout",
     "output_type": "stream",
     "text": [
      "checking exists: ./path_embeddings/Ugly_Target_Normailized_128x128_gbuReduced : False\n",
      "gathering embeddings for path: ./GBU-Dataset/Ugly_Target_Normailized_128x128_gbuReduced with model: VGG-Face\n"
     ]
    },
    {
     "data": {
      "application/vnd.jupyter.widget-view+json": {
       "model_id": "85d3aac72a614a47b28ff1c625588f98",
       "version_major": 2,
       "version_minor": 0
      },
      "text/plain": [
       "  0%|          | 0/1085 [00:00<?, ?it/s]"
      ]
     },
     "metadata": {},
     "output_type": "display_data"
    },
    {
     "name": "stdout",
     "output_type": "stream",
     "text": [
      "gathering embeddings for path: ./GBU-Dataset/Ugly_Target_Normailized_128x128_gbuReduced with model: Facenet\n"
     ]
    },
    {
     "data": {
      "application/vnd.jupyter.widget-view+json": {
       "model_id": "91655cbf86794fdc96d891152082bcec",
       "version_major": 2,
       "version_minor": 0
      },
      "text/plain": [
       "  0%|          | 0/1085 [00:00<?, ?it/s]"
      ]
     },
     "metadata": {},
     "output_type": "display_data"
    },
    {
     "name": "stdout",
     "output_type": "stream",
     "text": [
      "gathering embeddings for path: ./GBU-Dataset/Ugly_Target_Normailized_128x128_gbuReduced with model: Facenet512\n"
     ]
    },
    {
     "data": {
      "application/vnd.jupyter.widget-view+json": {
       "model_id": "9032a548b2384820ba303c0cae2b3beb",
       "version_major": 2,
       "version_minor": 0
      },
      "text/plain": [
       "  0%|          | 0/1085 [00:00<?, ?it/s]"
      ]
     },
     "metadata": {},
     "output_type": "display_data"
    },
    {
     "name": "stdout",
     "output_type": "stream",
     "text": [
      "gathering embeddings for path: ./GBU-Dataset/Ugly_Target_Normailized_128x128_gbuReduced with model: OpenFace\n"
     ]
    },
    {
     "data": {
      "application/vnd.jupyter.widget-view+json": {
       "model_id": "961674ecef0049ef95cb4befe6b5c6bf",
       "version_major": 2,
       "version_minor": 0
      },
      "text/plain": [
       "  0%|          | 0/1085 [00:00<?, ?it/s]"
      ]
     },
     "metadata": {},
     "output_type": "display_data"
    },
    {
     "name": "stdout",
     "output_type": "stream",
     "text": [
      "gathering embeddings for path: ./GBU-Dataset/Ugly_Target_Normailized_128x128_gbuReduced with model: DeepFace\n"
     ]
    },
    {
     "data": {
      "application/vnd.jupyter.widget-view+json": {
       "model_id": "03da94c687d6486490fe02f4b0a10fda",
       "version_major": 2,
       "version_minor": 0
      },
      "text/plain": [
       "  0%|          | 0/1085 [00:00<?, ?it/s]"
      ]
     },
     "metadata": {},
     "output_type": "display_data"
    },
    {
     "name": "stdout",
     "output_type": "stream",
     "text": [
      "gathering embeddings for path: ./GBU-Dataset/Ugly_Target_Normailized_128x128_gbuReduced with model: DeepID\n"
     ]
    },
    {
     "data": {
      "application/vnd.jupyter.widget-view+json": {
       "model_id": "8908692d3b9f4aa8b1b4977cc4b05930",
       "version_major": 2,
       "version_minor": 0
      },
      "text/plain": [
       "  0%|          | 0/1085 [00:00<?, ?it/s]"
      ]
     },
     "metadata": {},
     "output_type": "display_data"
    }
   ],
   "source": [
    "def gather_embeddings():\n",
    "    paths = os.listdir(folder_path)\n",
    "    for path in paths:\n",
    "        actual_path = f\"{folder_path}/{path}\"\n",
    "        embeddings_path = f\"./path_embeddings/{path}\"\n",
    "        if(exists(path)(embeddings_path)):\n",
    "            print(f'skipping {path} as the embeddings for it exists..')\n",
    "            continue\n",
    "        else:\n",
    "            path_embeddings:dict = {path : {model.value:{} for model in FVM }}\n",
    "            for model in FVM:\n",
    "                print(f\"gathering embeddings for path: {actual_path} with model: {model.value}\")\n",
    "                for image_name in tqdm(os.listdir(actual_path)):\n",
    "                    embedding = get_embeddings(f\"{actual_path}/{image_name}\", model)\n",
    "                    path_embeddings[path][model.value][image_name] = embedding\n",
    "            save_path_embeddings(path,path_embeddings)\n",
    "            \n",
    "gather_embeddings()"
   ]
  },
  {
   "cell_type": "code",
   "execution_count": 45,
   "id": "50c46047",
   "metadata": {},
   "outputs": [
    {
     "data": {
      "application/vnd.jupyter.widget-view+json": {
       "model_id": "235148656a6e46a991e96c259296451c",
       "version_major": 2,
       "version_minor": 0
      },
      "text/plain": [
       "  0%|          | 0/6 [00:00<?, ?it/s]"
      ]
     },
     "metadata": {},
     "output_type": "display_data"
    },
    {
     "name": "stdout",
     "output_type": "stream",
     "text": [
      "Done.\n"
     ]
    }
   ],
   "source": [
    "embeddings_path = \"./path_embeddings\"\n",
    "\n",
    "def conjoin_embeddings():\n",
    "    conjoined_embeddings:dict = {}\n",
    "    for file_path in tqdm(os.listdir(embeddings_path)):\n",
    "        with open(f\"./{embeddings_path}/{file_path}\", 'r') as file:\n",
    "            file_content:dict = json.load(file)\n",
    "            conjoined_embeddings = {**conjoined_embeddings, **file_content}\n",
    "    \n",
    "    embeddings_file = open(f\"./conjoined_embeddings.json\", \"w\")\n",
    "    json.dump(conjoined_embeddings, embeddings_file)\n",
    "    embeddings_file.close()    \n",
    "    print('Done.')\n",
    "            \n",
    "conjoin_embeddings()"
   ]
  },
  {
   "cell_type": "code",
   "execution_count": 46,
   "id": "e815eaf7",
   "metadata": {},
   "outputs": [],
   "source": [
    "import pandas as pd"
   ]
  },
  {
   "cell_type": "code",
   "execution_count": 47,
   "id": "32902be2",
   "metadata": {},
   "outputs": [
    {
     "data": {
      "text/html": [
       "<div>\n",
       "<style scoped>\n",
       "    .dataframe tbody tr th:only-of-type {\n",
       "        vertical-align: middle;\n",
       "    }\n",
       "\n",
       "    .dataframe tbody tr th {\n",
       "        vertical-align: top;\n",
       "    }\n",
       "\n",
       "    .dataframe thead th {\n",
       "        text-align: right;\n",
       "    }\n",
       "</style>\n",
       "<table border=\"1\" class=\"dataframe\">\n",
       "  <thead>\n",
       "    <tr style=\"text-align: right;\">\n",
       "      <th></th>\n",
       "      <th>Bad_Query_Normailized_128x128_gbuReduced</th>\n",
       "      <th>Bad_Target_Normailized_128x128_gbuReduced</th>\n",
       "      <th>Good_Query_Normailized_128x128_gbuReduced</th>\n",
       "      <th>Good_Target_Normailized_128x128_gbuReduced</th>\n",
       "      <th>Ugly_Query_Normailized_128x128_gbuReduced</th>\n",
       "      <th>Ugly_Target_Normailized_128x128_gbuReduced</th>\n",
       "    </tr>\n",
       "  </thead>\n",
       "  <tbody>\n",
       "    <tr>\n",
       "      <th>VGG-Face</th>\n",
       "      <td>{'02463d1036.jpg': [0.002186646917834, -0.0049...</td>\n",
       "      <td>{'02463d773.jpg': [0.012026689946651, -0.00054...</td>\n",
       "      <td>{'02463d731.jpg': [0.006494991015642, -0.00636...</td>\n",
       "      <td>{'02463d791.jpg': [0.007158799562603, -0.00358...</td>\n",
       "      <td>{'02463d725.jpg': [0.008309289813041, -0.00160...</td>\n",
       "      <td>{'02463d1006.jpg': [0.019679000601172003, 0.00...</td>\n",
       "    </tr>\n",
       "    <tr>\n",
       "      <th>Facenet</th>\n",
       "      <td>{'02463d1036.jpg': [-0.8878121376037591, -0.54...</td>\n",
       "      <td>{'02463d773.jpg': [-0.17478758096694902, -0.42...</td>\n",
       "      <td>{'02463d731.jpg': [-0.16289946436882002, -0.44...</td>\n",
       "      <td>{'02463d791.jpg': [-0.6914842128753661, -0.294...</td>\n",
       "      <td>{'02463d725.jpg': [-1.188650608062744, -0.7559...</td>\n",
       "      <td>{'02463d1006.jpg': [-0.15823097527027102, -0.5...</td>\n",
       "    </tr>\n",
       "    <tr>\n",
       "      <th>Facenet512</th>\n",
       "      <td>{'02463d1036.jpg': [1.4553800821304321, 0.3558...</td>\n",
       "      <td>{'02463d773.jpg': [0.7592978477478021, 1.19731...</td>\n",
       "      <td>{'02463d731.jpg': [0.347361654043197, -0.28890...</td>\n",
       "      <td>{'02463d791.jpg': [0.30384430289268405, 0.6034...</td>\n",
       "      <td>{'02463d725.jpg': [0.9120784997940061, 0.87915...</td>\n",
       "      <td>{'02463d1006.jpg': [0.458467751741409, 0.50741...</td>\n",
       "    </tr>\n",
       "    <tr>\n",
       "      <th>OpenFace</th>\n",
       "      <td>{'02463d1036.jpg': [0.046032607555389, 0.26024...</td>\n",
       "      <td>{'02463d773.jpg': [0.07243873924016901, 0.2239...</td>\n",
       "      <td>{'02463d731.jpg': [0.05787903442978801, 0.1664...</td>\n",
       "      <td>{'02463d791.jpg': [0.091207221150398, 0.192329...</td>\n",
       "      <td>{'02463d725.jpg': [0.131656274199485, 0.138604...</td>\n",
       "      <td>{'02463d1006.jpg': [0.003289114916697, 0.14904...</td>\n",
       "    </tr>\n",
       "    <tr>\n",
       "      <th>DeepFace</th>\n",
       "      <td>{'02463d1036.jpg': [0.0, 0.0, 0.0, 0.355879127...</td>\n",
       "      <td>{'02463d773.jpg': [0.0, 0.0, 0.0, 0.2445608377...</td>\n",
       "      <td>{'02463d731.jpg': [0.0, 0.0, 0.0, 0.2917346060...</td>\n",
       "      <td>{'02463d791.jpg': [0.0, 0.0, 0.0, 0.0, 2.94697...</td>\n",
       "      <td>{'02463d725.jpg': [0.0, 0.0, 0.0, 0.0, 1.27615...</td>\n",
       "      <td>{'02463d1006.jpg': [0.180609852075576, 0.0, 1....</td>\n",
       "    </tr>\n",
       "  </tbody>\n",
       "</table>\n",
       "</div>"
      ],
      "text/plain": [
       "                     Bad_Query_Normailized_128x128_gbuReduced  \\\n",
       "VGG-Face    {'02463d1036.jpg': [0.002186646917834, -0.0049...   \n",
       "Facenet     {'02463d1036.jpg': [-0.8878121376037591, -0.54...   \n",
       "Facenet512  {'02463d1036.jpg': [1.4553800821304321, 0.3558...   \n",
       "OpenFace    {'02463d1036.jpg': [0.046032607555389, 0.26024...   \n",
       "DeepFace    {'02463d1036.jpg': [0.0, 0.0, 0.0, 0.355879127...   \n",
       "\n",
       "                    Bad_Target_Normailized_128x128_gbuReduced  \\\n",
       "VGG-Face    {'02463d773.jpg': [0.012026689946651, -0.00054...   \n",
       "Facenet     {'02463d773.jpg': [-0.17478758096694902, -0.42...   \n",
       "Facenet512  {'02463d773.jpg': [0.7592978477478021, 1.19731...   \n",
       "OpenFace    {'02463d773.jpg': [0.07243873924016901, 0.2239...   \n",
       "DeepFace    {'02463d773.jpg': [0.0, 0.0, 0.0, 0.2445608377...   \n",
       "\n",
       "                    Good_Query_Normailized_128x128_gbuReduced  \\\n",
       "VGG-Face    {'02463d731.jpg': [0.006494991015642, -0.00636...   \n",
       "Facenet     {'02463d731.jpg': [-0.16289946436882002, -0.44...   \n",
       "Facenet512  {'02463d731.jpg': [0.347361654043197, -0.28890...   \n",
       "OpenFace    {'02463d731.jpg': [0.05787903442978801, 0.1664...   \n",
       "DeepFace    {'02463d731.jpg': [0.0, 0.0, 0.0, 0.2917346060...   \n",
       "\n",
       "                   Good_Target_Normailized_128x128_gbuReduced  \\\n",
       "VGG-Face    {'02463d791.jpg': [0.007158799562603, -0.00358...   \n",
       "Facenet     {'02463d791.jpg': [-0.6914842128753661, -0.294...   \n",
       "Facenet512  {'02463d791.jpg': [0.30384430289268405, 0.6034...   \n",
       "OpenFace    {'02463d791.jpg': [0.091207221150398, 0.192329...   \n",
       "DeepFace    {'02463d791.jpg': [0.0, 0.0, 0.0, 0.0, 2.94697...   \n",
       "\n",
       "                    Ugly_Query_Normailized_128x128_gbuReduced  \\\n",
       "VGG-Face    {'02463d725.jpg': [0.008309289813041, -0.00160...   \n",
       "Facenet     {'02463d725.jpg': [-1.188650608062744, -0.7559...   \n",
       "Facenet512  {'02463d725.jpg': [0.9120784997940061, 0.87915...   \n",
       "OpenFace    {'02463d725.jpg': [0.131656274199485, 0.138604...   \n",
       "DeepFace    {'02463d725.jpg': [0.0, 0.0, 0.0, 0.0, 1.27615...   \n",
       "\n",
       "                   Ugly_Target_Normailized_128x128_gbuReduced  \n",
       "VGG-Face    {'02463d1006.jpg': [0.019679000601172003, 0.00...  \n",
       "Facenet     {'02463d1006.jpg': [-0.15823097527027102, -0.5...  \n",
       "Facenet512  {'02463d1006.jpg': [0.458467751741409, 0.50741...  \n",
       "OpenFace    {'02463d1006.jpg': [0.003289114916697, 0.14904...  \n",
       "DeepFace    {'02463d1006.jpg': [0.180609852075576, 0.0, 1....  "
      ]
     },
     "execution_count": 47,
     "metadata": {},
     "output_type": "execute_result"
    }
   ],
   "source": [
    "df = pd.read_json('./conjoined_embeddings.json')\n",
    "df.head()"
   ]
  }
 ],
 "metadata": {
  "kernelspec": {
   "display_name": "gpu2",
   "language": "python",
   "name": "gpu2"
  },
  "language_info": {
   "codemirror_mode": {
    "name": "ipython",
    "version": 3
   },
   "file_extension": ".py",
   "mimetype": "text/x-python",
   "name": "python",
   "nbconvert_exporter": "python",
   "pygments_lexer": "ipython3",
   "version": "3.7.4"
  }
 },
 "nbformat": 4,
 "nbformat_minor": 5
}
