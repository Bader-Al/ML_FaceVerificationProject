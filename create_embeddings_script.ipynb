{
 "cells": [
  {
   "cell_type": "code",
   "execution_count": 2,
   "id": "7164c87f",
   "metadata": {},
   "outputs": [],
   "source": [
    "from core import *\n",
    "from deepface import DeepFace"
   ]
  },
  {
   "cell_type": "code",
   "execution_count": 3,
   "id": "590849b9",
   "metadata": {},
   "outputs": [
    {
     "data": {
      "text/plain": [
       "{'Bad_Query_Normailized_128x128_gbuReduced': {'VGG-Face': {},\n",
       "  'Facenet': {},\n",
       "  'Facenet512': {},\n",
       "  'OpenFace': {}},\n",
       " 'Bad_Target_Normailized_128x128_gbuReduced': {'VGG-Face': {},\n",
       "  'Facenet': {},\n",
       "  'Facenet512': {},\n",
       "  'OpenFace': {}},\n",
       " 'Good_Query_Normailized_128x128_gbuReduced': {'VGG-Face': {},\n",
       "  'Facenet': {},\n",
       "  'Facenet512': {},\n",
       "  'OpenFace': {}},\n",
       " 'Good_Target_Normailized_128x128_gbuReduced': {'VGG-Face': {},\n",
       "  'Facenet': {},\n",
       "  'Facenet512': {},\n",
       "  'OpenFace': {}},\n",
       " 'Ugly_Query_Normailized_128x128_gbuReduced': {'VGG-Face': {},\n",
       "  'Facenet': {},\n",
       "  'Facenet512': {},\n",
       "  'OpenFace': {}},\n",
       " 'Ugly_Target_Normailized_128x128_gbuReduced': {'VGG-Face': {},\n",
       "  'Facenet': {},\n",
       "  'Facenet512': {},\n",
       "  'OpenFace': {}}}"
      ]
     },
     "execution_count": 3,
     "metadata": {},
     "output_type": "execute_result"
    }
   ],
   "source": [
    "embeddings_cache = {path : { model.value : {} for model in FVM} for path in os.listdir(folder_path)}\n",
    "embeddings_cache"
   ]
  },
  {
   "cell_type": "code",
   "execution_count": null,
   "id": "02b77a75",
   "metadata": {},
   "outputs": [
    {
     "name": "stdout",
     "output_type": "stream",
     "text": [
      "facial_expression_model_weights.h5 will be downloaded...\n"
     ]
    },
    {
     "name": "stderr",
     "output_type": "stream",
     "text": [
      "Downloading...\n",
      "From: https://github.com/serengil/deepface_models/releases/download/v1.0/facial_expression_model_weights.h5\n",
      "To: C:\\Users\\BMA\\.deepface\\weights\\facial_expression_model_weights.h5\n",
      "100%|██████████████████████████████████████████████████████████████████████████████| 5.98M/5.98M [00:06<00:00, 944kB/s]\n"
     ]
    },
    {
     "name": "stdout",
     "output_type": "stream",
     "text": [
      "age_model_weights.h5 will be downloaded...\n"
     ]
    },
    {
     "name": "stderr",
     "output_type": "stream",
     "text": [
      "Downloading...\n",
      "From: https://github.com/serengil/deepface_models/releases/download/v1.0/age_model_weights.h5\n",
      "To: C:\\Users\\BMA\\.deepface\\weights\\age_model_weights.h5\n",
      "100%|████████████████████████████████████████████████████████████████████████████████| 539M/539M [09:29<00:00, 947kB/s]\n"
     ]
    },
    {
     "name": "stdout",
     "output_type": "stream",
     "text": [
      "gender_model_weights.h5 will be downloaded...\n"
     ]
    },
    {
     "name": "stderr",
     "output_type": "stream",
     "text": [
      "Downloading...\n",
      "From: https://github.com/serengil/deepface_models/releases/download/v1.0/gender_model_weights.h5\n",
      "To: C:\\Users\\BMA\\.deepface\\weights\\gender_model_weights.h5\n",
      "100%|████████████████████████████████████████████████████████████████████████████████| 537M/537M [09:14<00:00, 969kB/s]\n"
     ]
    }
   ],
   "source": [
    "def get_embeddings(path:str, model_type:FVM = FVM.vgg ):\n",
    "    model = model_type.value\n",
    "    res = DeepFace.analyze(img_path=path, enforce_detection=False, \n",
    "                       )\n",
    "#     res = DeepFace.represent(img_path=path, enforce_detection=False, \n",
    "#                              model_name = model_type.value )\n",
    "\n",
    "test_path = \"./GBU-Dataset/Good_Query_Normailized_128x128_gbuReduced/02463d755.jpg\"\n",
    "embeddings = get_embeddings(test_path, FVM.vgg)\n",
    "print(embeddings)"
   ]
  },
  {
   "cell_type": "code",
   "execution_count": 8,
   "id": "9fbc8057",
   "metadata": {
    "scrolled": true
   },
   "outputs": [
    {
     "name": "stdout",
     "output_type": "stream",
     "text": [
      "gathering embeddings for path: ./GBU-Dataset/Bad_Query_Normailized_128x128_gbuReduced with model: VGG-Face\n",
      "None\n",
      "None\n",
      "None\n",
      "None\n",
      "None\n",
      "gathering embeddings for path: ./GBU-Dataset/Bad_Query_Normailized_128x128_gbuReduced with model: Facenet\n",
      "None\n",
      "None\n",
      "None\n",
      "None\n",
      "None\n",
      "gathering embeddings for path: ./GBU-Dataset/Bad_Query_Normailized_128x128_gbuReduced with model: Facenet512\n",
      "None\n",
      "None\n",
      "None\n",
      "None\n",
      "None\n",
      "gathering embeddings for path: ./GBU-Dataset/Bad_Query_Normailized_128x128_gbuReduced with model: OpenFace\n",
      "None\n",
      "None\n",
      "None\n",
      "None\n",
      "None\n",
      "gathering embeddings for path: ./GBU-Dataset/Bad_Target_Normailized_128x128_gbuReduced with model: VGG-Face\n",
      "None\n",
      "None\n",
      "None\n",
      "None\n",
      "None\n",
      "gathering embeddings for path: ./GBU-Dataset/Bad_Target_Normailized_128x128_gbuReduced with model: Facenet\n",
      "None\n",
      "None\n",
      "None\n",
      "None\n",
      "None\n",
      "gathering embeddings for path: ./GBU-Dataset/Bad_Target_Normailized_128x128_gbuReduced with model: Facenet512\n",
      "None\n",
      "None\n",
      "None\n",
      "None\n",
      "None\n",
      "gathering embeddings for path: ./GBU-Dataset/Bad_Target_Normailized_128x128_gbuReduced with model: OpenFace\n",
      "None\n",
      "None\n",
      "None\n",
      "None\n",
      "None\n",
      "gathering embeddings for path: ./GBU-Dataset/Good_Query_Normailized_128x128_gbuReduced with model: VGG-Face\n",
      "None\n",
      "None\n",
      "None\n",
      "None\n",
      "None\n",
      "gathering embeddings for path: ./GBU-Dataset/Good_Query_Normailized_128x128_gbuReduced with model: Facenet\n",
      "None\n",
      "None\n",
      "None\n",
      "None\n",
      "None\n",
      "gathering embeddings for path: ./GBU-Dataset/Good_Query_Normailized_128x128_gbuReduced with model: Facenet512\n",
      "None\n",
      "None\n",
      "None\n",
      "None\n",
      "None\n",
      "gathering embeddings for path: ./GBU-Dataset/Good_Query_Normailized_128x128_gbuReduced with model: OpenFace\n",
      "None\n",
      "None\n",
      "None\n",
      "None\n",
      "None\n",
      "gathering embeddings for path: ./GBU-Dataset/Good_Target_Normailized_128x128_gbuReduced with model: VGG-Face\n",
      "None\n",
      "None\n",
      "None\n",
      "None\n",
      "None\n",
      "gathering embeddings for path: ./GBU-Dataset/Good_Target_Normailized_128x128_gbuReduced with model: Facenet\n",
      "None\n",
      "None\n",
      "None\n",
      "None\n",
      "None\n",
      "gathering embeddings for path: ./GBU-Dataset/Good_Target_Normailized_128x128_gbuReduced with model: Facenet512\n",
      "None\n",
      "None\n",
      "None\n",
      "None\n",
      "None\n",
      "gathering embeddings for path: ./GBU-Dataset/Good_Target_Normailized_128x128_gbuReduced with model: OpenFace\n",
      "None\n",
      "None\n",
      "None\n",
      "None\n",
      "None\n",
      "gathering embeddings for path: ./GBU-Dataset/Ugly_Query_Normailized_128x128_gbuReduced with model: VGG-Face\n",
      "None\n",
      "None\n",
      "None\n",
      "None\n",
      "None\n",
      "gathering embeddings for path: ./GBU-Dataset/Ugly_Query_Normailized_128x128_gbuReduced with model: Facenet\n",
      "None\n",
      "None\n",
      "None\n",
      "None\n",
      "None\n",
      "gathering embeddings for path: ./GBU-Dataset/Ugly_Query_Normailized_128x128_gbuReduced with model: Facenet512\n",
      "None\n",
      "None\n",
      "None\n",
      "None\n",
      "None\n",
      "gathering embeddings for path: ./GBU-Dataset/Ugly_Query_Normailized_128x128_gbuReduced with model: OpenFace\n",
      "None\n",
      "None\n",
      "None\n",
      "None\n",
      "None\n",
      "gathering embeddings for path: ./GBU-Dataset/Ugly_Target_Normailized_128x128_gbuReduced with model: VGG-Face\n",
      "None\n",
      "None\n",
      "None\n",
      "None\n",
      "None\n",
      "gathering embeddings for path: ./GBU-Dataset/Ugly_Target_Normailized_128x128_gbuReduced with model: Facenet\n",
      "None\n",
      "None\n",
      "None\n",
      "None\n",
      "None\n",
      "gathering embeddings for path: ./GBU-Dataset/Ugly_Target_Normailized_128x128_gbuReduced with model: Facenet512\n",
      "None\n",
      "None\n",
      "None\n",
      "None\n",
      "None\n",
      "gathering embeddings for path: ./GBU-Dataset/Ugly_Target_Normailized_128x128_gbuReduced with model: OpenFace\n",
      "None\n",
      "None\n",
      "None\n",
      "None\n",
      "None\n"
     ]
    },
    {
     "data": {
      "text/plain": [
       "{'Bad_Query_Normailized_128x128_gbuReduced': {'VGG-Face': {},\n",
       "  'Facenet': {},\n",
       "  'Facenet512': {},\n",
       "  'OpenFace': {}},\n",
       " 'Bad_Target_Normailized_128x128_gbuReduced': {'VGG-Face': {},\n",
       "  'Facenet': {},\n",
       "  'Facenet512': {},\n",
       "  'OpenFace': {}},\n",
       " 'Good_Query_Normailized_128x128_gbuReduced': {'VGG-Face': {},\n",
       "  'Facenet': {},\n",
       "  'Facenet512': {},\n",
       "  'OpenFace': {}},\n",
       " 'Good_Target_Normailized_128x128_gbuReduced': {'VGG-Face': {},\n",
       "  'Facenet': {},\n",
       "  'Facenet512': {},\n",
       "  'OpenFace': {}},\n",
       " 'Ugly_Query_Normailized_128x128_gbuReduced': {'VGG-Face': {},\n",
       "  'Facenet': {},\n",
       "  'Facenet512': {},\n",
       "  'OpenFace': {}},\n",
       " 'Ugly_Target_Normailized_128x128_gbuReduced': {'VGG-Face': {},\n",
       "  'Facenet': {},\n",
       "  'Facenet512': {},\n",
       "  'OpenFace': {}}}"
      ]
     },
     "execution_count": 8,
     "metadata": {},
     "output_type": "execute_result"
    }
   ],
   "source": [
    "def get_embeddings_by_gbu():\n",
    "    paths = os.listdir(folder_path)\n",
    "    for path in paths:\n",
    "        actual_path = f\"{folder_path}/{path}\"\n",
    "        for model in FVM :\n",
    "            print(f\"gathering embeddings for path: {actual_path} with model: {model.value}\")\n",
    "            for image in os.listdir(actual_path)[:5]:\n",
    "                embedding = get_embeddings(f\"{actual_path}/{image}\", model)\n",
    "                print(embedding)\n",
    "#                 embeddings_cache[path][model.value] = embedding\n",
    "            \n",
    "get_embeddings_by_gbu()\n",
    "embeddings_cache"
   ]
  }
 ],
 "metadata": {
  "kernelspec": {
   "display_name": "gpu2",
   "language": "python",
   "name": "gpu2"
  },
  "language_info": {
   "codemirror_mode": {
    "name": "ipython",
    "version": 3
   },
   "file_extension": ".py",
   "mimetype": "text/x-python",
   "name": "python",
   "nbconvert_exporter": "python",
   "pygments_lexer": "ipython3",
   "version": "3.7.4"
  }
 },
 "nbformat": 4,
 "nbformat_minor": 5
}
