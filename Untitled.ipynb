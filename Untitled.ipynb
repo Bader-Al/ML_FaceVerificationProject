{
 "cells": [
  {
   "cell_type": "code",
   "execution_count": 1,
   "metadata": {},
   "outputs": [
    {
     "data": {
      "text/plain": [
       "[PhysicalDevice(name='/physical_device:CPU:0', device_type='CPU'),\n",
       " PhysicalDevice(name='/physical_device:GPU:0', device_type='GPU')]"
      ]
     },
     "execution_count": 1,
     "metadata": {},
     "output_type": "execute_result"
    }
   ],
   "source": [
    "import tensorflow as tf\n",
    "tf.config.get_visible_devices()"
   ]
  },
  {
   "cell_type": "code",
   "execution_count": null,
   "metadata": {},
   "outputs": [],
   "source": []
  },
  {
   "cell_type": "code",
   "execution_count": 2,
   "metadata": {},
   "outputs": [],
   "source": [
    "import os\n",
    "from deepface import DeepFace\n",
    "import pandas as pd\n",
    "from pandas import plotting\n",
    "from pathlib import Path\n",
    "import numpy as np\n",
    "import tensorflow as tf\n",
    "import seaborn as sb\n",
    "import enum\n",
    "from datetime import datetime\n",
    "\n",
    "class FVM(enum.Enum): # short for FaceVerificationModel\n",
    "    vgg = \"VGG-Face\"\n",
    "    facenet = \"Facenet\"\n",
    "    facenet512 = \"Facenet512\"\n",
    "    openface = \"OpenFace\"\n",
    "    \n",
    "class GBU(enum.Enum):\n",
    "    good = \"Good\"\n",
    "    bad = \"Bad\"\n",
    "    ugly = \"Ugly\""
   ]
  },
  {
   "cell_type": "code",
   "execution_count": 3,
   "metadata": {},
   "outputs": [],
   "source": [
    "folder_path = \"./GBU-Dataset\"\n",
    "query_path_suffix = \"_Query_Normailized_128x128_gbuReduced/\"\n",
    "target_path_suffix = \"_Target_Normailized_128x128_gbuReduced/\"\n"
   ]
  },
  {
   "cell_type": "code",
   "execution_count": 4,
   "metadata": {},
   "outputs": [],
   "source": [
    "def get_paths(gbu_type:GBU):\n",
    "    gbu = str(gbu_type.value)\n",
    "    query_path = folder_path +\"/\" + gbu + query_path_suffix\n",
    "    target_path = folder_path +\"/\"+ gbu + target_path_suffix\n",
    "    return query_path, target_path"
   ]
  },
  {
   "cell_type": "code",
   "execution_count": 5,
   "metadata": {},
   "outputs": [],
   "source": [
    "def get_images_from_path(path:str):\n",
    "    try: return os.listdir(path)\n",
    "    except: raise Exception(\"Path invalid!\")"
   ]
  },
  {
   "cell_type": "code",
   "execution_count": 6,
   "metadata": {},
   "outputs": [],
   "source": [
    "verification_memory = {model.value: {} for model in FVM} # creates {'VGG-Face': {}, 'Facenet': {}, .. etc }"
   ]
  },
  {
   "cell_type": "code",
   "execution_count": 7,
   "metadata": {
    "scrolled": true
   },
   "outputs": [
    {
     "name": "stdout",
     "output_type": "stream",
     "text": [
      "Verifying faces with VGG-Face and Good...\n",
      "0:00:06.554293\n"
     ]
    }
   ],
   "source": [
    "\n",
    "def verify_faces( model_type:FVM = FVM.vgg , gbu_type:GBU = GBU.good , limit:int=10): # limit for faster testing\n",
    "    model = model_type.value\n",
    "    gbu = gbu_type.value\n",
    "    \n",
    "    genuine = []\n",
    "    imposter = []\n",
    "    \n",
    "    query_path, target_path = get_paths(gbu_type)\n",
    "    query_images = get_images_from_path(query_path)\n",
    "    target_images = get_images_from_path(target_path)\n",
    "    \n",
    "    print(f\"Verifying faces with {model} and {gbu}...\")\n",
    "    initial_time = datetime.now()\n",
    "    for query_img in query_images[:limit]:\n",
    "        query_person_id = int(query_img[:5])\n",
    "        for target_img in target_images[:limit]:\n",
    "            target_person_id = int(target_img[:5])\n",
    "            comparison_key = tuple(sorted([target_person_id, query_person_id]))\n",
    "            if comparison_key not in verification_memory[model]:\n",
    "                if target_person_id == query_person_id:\n",
    "                    result = DeepFace.verify(img1_path = query_path + query_img, img2_path = target_path + target_img, model_name = model, detector_backend = 'mtcnn', enforce_detection=False) \n",
    "                    genuine.append(result)\n",
    "                    verification_memory[model][comparisonKey] = result\n",
    "                else: \n",
    "                    result = DeepFace.verify (img1_path = query_path + query_img, img2_path = target_path + target_img, model_name = model, detector_backend = 'mtcnn', enforce_detection=False) \n",
    "                    imposter.append(result)\n",
    "                    verification_memory[model][comparisonKey] = result\n",
    "    end_time = datetime.now()\n",
    "    delta_time = end_time-initial_time\n",
    "    print(delta_time)\n",
    "    return genuine, imposter\n",
    "\n",
    "\n",
    "gen, imp = verify_faces(limit=10)\n",
    " "
   ]
  },
  {
   "cell_type": "code",
   "execution_count": 49,
   "metadata": {},
   "outputs": [
    {
     "name": "stdout",
     "output_type": "stream",
     "text": [
      "{'verified': False, 'distance': 0.5277763473256996, 'threshold': 0.4, 'model': 'VGG-Face', 'detector_backend': 'mtcnn', 'similarity_metric': 'cosine'}\n"
     ]
    }
   ],
   "source": [
    "print(imp[0])"
   ]
  },
  {
   "cell_type": "code",
   "execution_count": 8,
   "metadata": {},
   "outputs": [
    {
     "data": {
      "text/plain": [
       "{'VGG-Face': {(2463, 2463): {'verified': True,\n",
       "   'distance': 0.226244913807363,\n",
       "   'threshold': 0.4,\n",
       "   'model': 'VGG-Face',\n",
       "   'detector_backend': 'mtcnn',\n",
       "   'similarity_metric': 'cosine'},\n",
       "  (2463, 4202): {'verified': False,\n",
       "   'distance': 0.5277763069383867,\n",
       "   'threshold': 0.4,\n",
       "   'model': 'VGG-Face',\n",
       "   'detector_backend': 'mtcnn',\n",
       "   'similarity_metric': 'cosine'},\n",
       "  (2463, 4203): {'verified': False,\n",
       "   'distance': 0.583499399762712,\n",
       "   'threshold': 0.4,\n",
       "   'model': 'VGG-Face',\n",
       "   'detector_backend': 'mtcnn',\n",
       "   'similarity_metric': 'cosine'},\n",
       "  (4202, 4202): {'verified': True,\n",
       "   'distance': 0.21100474654183587,\n",
       "   'threshold': 0.4,\n",
       "   'model': 'VGG-Face',\n",
       "   'detector_backend': 'mtcnn',\n",
       "   'similarity_metric': 'cosine'},\n",
       "  (4202, 4203): {'verified': True,\n",
       "   'distance': 0.24245874269690637,\n",
       "   'threshold': 0.4,\n",
       "   'model': 'VGG-Face',\n",
       "   'detector_backend': 'mtcnn',\n",
       "   'similarity_metric': 'cosine'},\n",
       "  (4203, 4203): {'verified': True,\n",
       "   'distance': 0.2018790844072904,\n",
       "   'threshold': 0.4,\n",
       "   'model': 'VGG-Face',\n",
       "   'detector_backend': 'mtcnn',\n",
       "   'similarity_metric': 'cosine'}},\n",
       " 'Facenet': {},\n",
       " 'Facenet512': {},\n",
       " 'OpenFace': {}}"
      ]
     },
     "execution_count": 8,
     "metadata": {},
     "output_type": "execute_result"
    }
   ],
   "source": [
    "verification_memory\n"
   ]
  },
  {
   "cell_type": "code",
   "execution_count": null,
   "metadata": {},
   "outputs": [],
   "source": [
    "for face_veri_model in FVM:\n",
    "    for gbu in GBU :\n",
    "        genuine, imposter = verify_faces(face_veri_model, gbu)"
   ]
  }
 ],
 "metadata": {
  "kernelspec": {
   "display_name": "gpu2",
   "language": "python",
   "name": "gpu2"
  },
  "language_info": {
   "codemirror_mode": {
    "name": "ipython",
    "version": 3
   },
   "file_extension": ".py",
   "mimetype": "text/x-python",
   "name": "python",
   "nbconvert_exporter": "python",
   "pygments_lexer": "ipython3",
   "version": "3.7.4"
  }
 },
 "nbformat": 4,
 "nbformat_minor": 2
}
